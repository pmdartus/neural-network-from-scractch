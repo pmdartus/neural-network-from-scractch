{
 "cells": [
  {
   "cell_type": "markdown",
   "metadata": {},
   "source": [
    "# Chapter 7 - Derivatives\n",
    "\n",
    "Notation:\n",
    "$$f'(x) = \\frac{d}{dx}f(x) = \\frac{df(x)}{dx}$$\n",
    "\n",
    "## Derivative Rules\n",
    "\n",
    "Constant factor: The derivative of a constant multipled by a function is equal to the constant multiple by the derivative.\n",
    "$$f(x) = c . g(x) \\longrightarrow f'(x) = c.g'(x)$$\n",
    "\n",
    "Function sum: The derivative of a sum of function is equal to the sum of the derivatives.\n",
    "$$f(x) = g(x) + h(x) \\longrightarrow f'(x) = g'(x) + h'(x)$$\n",
    "\n",
    "## Remarquable functions\n",
    "\n",
    "Constant function: The derivate of a contant function is $0$.\n",
    "$$f(x) = 1 \\longrightarrow f'(x) = 0$$\n",
    "\n",
    "Linear function: The derivative of a linear function is equal to its slope.\n",
    "$$f(x) = mx + b \\longrightarrow f'(x) = m$$\n",
    "\n",
    "Generalized exponented function:\n",
    "$$f(x) = x^n \\longrightarrow f'(x) = n.x^{(n-1)}$$"
   ]
  },
  {
   "cell_type": "markdown",
   "metadata": {},
   "source": []
  }
 ],
 "metadata": {
  "language_info": {
   "name": "python"
  }
 },
 "nbformat": 4,
 "nbformat_minor": 2
}
