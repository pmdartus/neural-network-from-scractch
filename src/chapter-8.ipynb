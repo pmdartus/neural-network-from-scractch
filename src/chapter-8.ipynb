{
 "cells": [
  {
   "cell_type": "markdown",
   "metadata": {},
   "source": [
    "# Chapter 8 - Partial Derivative & Gradients\n",
    "\n",
    "For multiple variable functions, the partial derivative enables us to determine the impact of a given parameter assuming the other ones are constant. The function $f(x, y)$ can be derived as $\\frac{\\partial f(x,y)}{\\partial x}$ and $\\frac{\\partial f(x,y)}{\\partial y}$.\n",
    "\n",
    "For instance:\n",
    "\n",
    "$$\n",
    "f(x,y) = x + y \\longrightarrow \n",
    "\\begin{cases}\n",
    "    \\frac{\\partial f(x,y)}{\\partial x} = 1 \\\\\n",
    "    \\frac{\\partial f(x,y)}{\\partial y} = 1 \\\\\n",
    "\\end{cases}\n",
    "$$\n",
    "\n",
    "$$\n",
    "f(x,y) = x . y \\longrightarrow \n",
    "\\begin{cases}\n",
    "    \\frac{\\partial f(x,y)}{\\partial x} = y \\\\\n",
    "    \\frac{\\partial f(x,y)}{\\partial y} = x \\\\\n",
    "\\end{cases}\n",
    "$$\n",
    "\n",
    "For the ReLU function:\n",
    "\n",
    "$$\n",
    "f(x,y) = max(x, y) \\longrightarrow \\frac{\\partial}{\\partial x}f(x, y) = 1 . (x > y)\n",
    "$$\n",
    "\n",
    "\n",
    "## Chain rule\n",
    "\n",
    "$$\n",
    "\\frac{d}{dx}f(g(x)) = \\frac{d}{dg(x)}f(g(x)) . \\frac{d}{dx}g(x)  = f'(g(x)) . g'(x)\n",
    "$$\n",
    "\n",
    "The chain rule also applies to partial derivates as well.\n",
    "\n",
    "## Gradiant\n",
    "\n",
    "The gradient is a vector composed of the different derivates alongs their respective dimensions:\n",
    "\n",
    "$$\n",
    "\\nabla f(x,y,z) = \n",
    "\\begin{bmatrix}\n",
    "    \\frac{\\partial f(x,y,z)}{\\partial x} \\\\\n",
    "    \\frac{\\partial f(x,y,z)}{\\partial y} \\\\\n",
    "    \\frac{\\partial f(x,y,z)}{\\partial z} \\\\\n",
    "\\end{bmatrix} =\n",
    "\\begin{bmatrix}\n",
    "    \\frac{\\partial}{\\partial x} \\\\\n",
    "    \\frac{\\partial}{\\partial y} \\\\\n",
    "    \\frac{\\partial}{\\partial z} \\\\\n",
    "\\end{bmatrix} f(x,y,z)\n",
    "$$"
   ]
  },
  {
   "cell_type": "markdown",
   "metadata": {},
   "source": []
  }
 ],
 "metadata": {
  "language_info": {
   "name": "python"
  }
 },
 "nbformat": 4,
 "nbformat_minor": 2
}
