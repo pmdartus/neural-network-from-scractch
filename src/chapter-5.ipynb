{
 "cells": [
  {
   "cell_type": "markdown",
   "metadata": {},
   "source": [
    "# Loss function\n",
    "\n",
    "**Loss function**, aka cost function, measure how much the model is wrong. The goal is for it to converge toward `0`.\n",
    "Which is different from it **accuracy** which measure how often it is right.\n",
    "\n",
    "The model have been building so far is a classification model. The model on its output layer produces a probability distribution indicating which class (aka category) a given sample belong to. The predicted class is defined by `arg_max` of the probability distribution, or the class with the highest probabilty:\n",
    "\n",
    "- the **accuracy** measures how often the `arg_max` returns the right value.\n",
    "- the **loss** measures how much the model is certain about the predicted value.\n",
    "\n",
    "Different loss functions are used depending on the type of model. In the case of linear regression, **Mean Squared Error** is used. In the case of a classification problem, the **Categorical Cross-Entropy**.\n"
   ]
  },
  {
   "cell_type": "code",
   "execution_count": 1,
   "metadata": {},
   "outputs": [],
   "source": [
    "import numpy as np\n",
    "import matplotlib.pyplot as plt"
   ]
  },
  {
   "cell_type": "markdown",
   "metadata": {},
   "source": [
    "## Log refresher\n",
    "\n",
    "The logarithm or log function is defined for positive number.\n",
    "\n",
    "Bounds:\n",
    "\n",
    "- Between 0 and 1: `[-Inifinity, 0]`\n",
    "- Between 1 and +Infinity: `[0, +Infinity]`\n",
    "\n",
    "Remarquable value: `log(1) = 0`\n",
    "When omited the exposed is Euler's constant and the log function can also be refered to as natural log.\n"
   ]
  },
  {
   "cell_type": "code",
   "execution_count": 2,
   "metadata": {},
   "outputs": [
    {
     "data": {
      "image/png": "[encoded data removed]",
      "text/plain": [
       "<Figure size 640x480 with 1 Axes>"
      ]
     },
     "metadata": {},
     "output_type": "display_data"
    }
   ],
   "source": [
    "x = np.linspace(0.01, 4)\n",
    "y = np.log(x)\n",
    "\n",
    "fig, ax = plt.subplots()\n",
    "ax.plot(x, y)\n",
    "\n",
    "# Set plot limits\n",
    "ax.set_xlim((-4, 4))\n",
    "ax.set_ylim((-4, 4))\n",
    "\n",
    "# Move left y-axis and bottom x-axis to the center, passing through (0,0)\n",
    "ax.spines[\"left\"].set_position(\"zero\")\n",
    "ax.spines[\"bottom\"].set_position(\"zero\")\n",
    "\n",
    "# Eliminate upper and right axes\n",
    "ax.spines[\"right\"].set_color(\"none\")\n",
    "ax.spines[\"top\"].set_color(\"none\")\n",
    "\n",
    "plt.show()"
   ]
  },
  {
   "cell_type": "markdown",
   "metadata": {},
   "source": [
    "## Categorical Cross-Entropy\n",
    "\n",
    "Is it defined as such: `H(P, Q) = - sum(P * log(Q))`\n",
    "\n",
    "Where:\n",
    "\n",
    "- `H(P, Q)` is the cross entry function\n",
    "- `P` is the target probability distribution\n",
    "- `Q` is the approximated probability distribution\n",
    "\n",
    "The cross-entropy function is defined from information theory. Log penalization makes it a good fit for a loss function because it penalizes more the errors.\n",
    "\n",
    "In our case, the loss function can be greatly simplified. A sample can only belong to a single class, and therefore `P` is `1` for the target class and `0` for all the others.\n",
    "\n",
    "`H(q) = -log(q)`\n",
    "\n",
    "Where:\n",
    "\n",
    "- `H` is the cross entry function\n",
    "- `q` the approximated probability of the expected class\n"
   ]
  },
  {
   "cell_type": "code",
   "execution_count": 3,
   "metadata": {},
   "outputs": [
    {
     "data": {
      "text/plain": [
       "np.float64(0.35667494393873245)"
      ]
     },
     "execution_count": 3,
     "metadata": {},
     "output_type": "execute_result"
    }
   ],
   "source": [
    "target = np.array([0, 1, 0])\n",
    "approx = np.array([0.2, 0.7, 0.1])\n",
    "\n",
    "loss_function = -np.log(np.sum(target * approx))\n",
    "loss_function"
   ]
  },
  {
   "cell_type": "markdown",
   "metadata": {},
   "source": [
    "## Implementation\n"
   ]
  },
  {
   "cell_type": "code",
   "execution_count": 14,
   "metadata": {},
   "outputs": [
    {
     "name": "stdout",
     "output_type": "stream",
     "text": [
      "[[0.33333334 0.33333334 0.33333334]\n",
      " [0.33333316 0.3333332  0.33333364]\n",
      " [0.33333287 0.3333329  0.33333418]\n",
      " [0.3333326  0.33333263 0.33333477]\n",
      " [0.33333233 0.3333324  0.33333528]]\n",
      "Loss: 1.0986104\n",
      "Accuracy: 0.34\n"
     ]
    }
   ],
   "source": [
    "from abc import abstractmethod\n",
    "\n",
    "import nnfs\n",
    "from nnfs.datasets import spiral_data\n",
    "\n",
    "WEIGHTS_INIT_FACTOR = 0.01\n",
    "\n",
    "\n",
    "class DenseLayer:\n",
    "    def __init__(self, n_inputs: int, n_neurons: int):\n",
    "        self.weights = WEIGHTS_INIT_FACTOR * np.random.randn(n_inputs, n_neurons)\n",
    "        self.baises = np.zeros((1, n_neurons))\n",
    "\n",
    "    def forward(self, inputs: np.ndarray):\n",
    "        self.output = np.dot(inputs, self.weights) + self.baises\n",
    "\n",
    "\n",
    "class ActivationReLU:\n",
    "    def forward(self, inputs: np.ndarray):\n",
    "        self.output = np.maximum(inputs, 0)\n",
    "\n",
    "\n",
    "class ActivationSoftMax:\n",
    "    def forward(self, inputs: np.ndarray):\n",
    "        norm_outputs = np.exp(inputs - np.max(inputs, axis=1, keepdims=True))\n",
    "        self.output = norm_outputs / np.sum(norm_outputs, axis=1, keepdims=True)\n",
    "\n",
    "\n",
    "class Loss:\n",
    "    def calculate(self, output: np.ndarray, target: np.ndarray):\n",
    "        sample_losses = self.forward(output, target)\n",
    "        return np.mean(sample_losses)\n",
    "\n",
    "    @abstractmethod\n",
    "    def forward(self, output: np.ndarray, target: np.ndarray) -> np.ndarray:\n",
    "        pass\n",
    "\n",
    "\n",
    "class LossCategoricalCrossEntropy(Loss):\n",
    "    def forward(self, output: np.ndarray, target: np.ndarray) -> np.ndarray:\n",
    "        # Avoid issued at the boundaries.\n",
    "        clipped_predicted = np.clip(output, 1e-7, 1 - 1e-7)\n",
    "\n",
    "        if len(target.shape) == 1:\n",
    "            # Indexed target\n",
    "            target_prediction = clipped_predicted[range(len(clipped_predicted)), target]\n",
    "        elif len(target.shape) == 2:\n",
    "            # Hot-one encoded target\n",
    "            target_prediction = np.sum(clipped_predicted * target, axis=1)\n",
    "\n",
    "        return -np.log(target_prediction)\n",
    "    \n",
    "def calulate_accuracy(output: np.ndarray, target: np.ndarray):\n",
    "    predictions = np.argmax(output, axis=1)\n",
    "    \n",
    "    if len(target.shape) == 2:\n",
    "        # Hot-ones encoded\n",
    "        target = np.argmax(target, axis=1)\n",
    "    \n",
    "    # The `==` operator produce a mask where `True` -> `1` and `False` -> `0`. \n",
    "    # This is the reason why it can be calculated using mean.\n",
    "    return np.mean(predictions == target)\n",
    "\n",
    "nnfs.init()\n",
    "samples, labels = spiral_data(samples=100, classes=3)\n",
    "\n",
    "# Setup layers\n",
    "layer1 = DenseLayer(n_inputs=2, n_neurons=3)\n",
    "activation1 = ActivationReLU()\n",
    "layer2 = DenseLayer(n_inputs=3, n_neurons=3)\n",
    "activation2 = ActivationSoftMax()\n",
    "loss_function = LossCategoricalCrossEntropy()\n",
    "\n",
    "# Layer 1 forward pass\n",
    "layer1.forward(samples)\n",
    "activation1.forward(layer1.output)\n",
    "\n",
    "# Layer 2 forward pass\n",
    "layer2.forward(activation1.output)\n",
    "activation2.forward(layer2.output)\n",
    "\n",
    "# Print the 5 first outputs\n",
    "print(activation2.output[:5])\n",
    "\n",
    "# Calulate loss\n",
    "loss = loss_function.calculate(activation2.output, labels)\n",
    "print(\"Loss:\", loss)\n",
    "\n",
    "accuracy = calulate_accuracy(activation2.output, labels)\n",
    "print(\"Accuracy:\", accuracy)"
   ]
  },
  {
   "cell_type": "code",
   "execution_count": null,
   "metadata": {},
   "outputs": [],
   "source": []
  }
 ],
 "metadata": {
  "kernelspec": {
   "display_name": ".venv",
   "language": "python",
   "name": "python3"
  },
  "language_info": {
   "codemirror_mode": {
    "name": "ipython",
    "version": 3
   },
   "file_extension": ".py",
   "mimetype": "text/x-python",
   "name": "python",
   "nbconvert_exporter": "python",
   "pygments_lexer": "ipython3",
   "version": "3.13.0"
  }
 },
 "nbformat": 4,
 "nbformat_minor": 2
}
