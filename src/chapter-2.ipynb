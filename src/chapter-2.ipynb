{
 "cells": [
  {
   "cell_type": "markdown",
   "metadata": {},
   "source": [
    "## Neurons & Layer\n",
    "\n",
    "Coding by hand an artifical neural network by hand. \n",
    "\n"
   ]
  },
  {
   "cell_type": "code",
   "execution_count": 1,
   "metadata": {},
   "outputs": [],
   "source": [
    "inputs = [0.3, 0.5, 0.2]\n",
    "weights = [\n",
    "    [0.5, 0.2, 0.8],\n",
    "    [0.2, 0.3, 0.1],\n",
    "    [0.1, 0.4, 0.9]\n",
    "]\n",
    "baises = [0.3, 0.1, 0.3]"
   ]
  },
  {
   "cell_type": "code",
   "execution_count": 2,
   "metadata": {},
   "outputs": [
    {
     "data": {
      "text/plain": [
       "[0.71, 0.32999999999999996, 0.71]"
      ]
     },
     "execution_count": 2,
     "metadata": {},
     "output_type": "execute_result"
    }
   ],
   "source": [
    "layout_outputs = []\n",
    "\n",
    "for neuron_weigths, neron_bais in zip(weights, baises):\n",
    "    # Init output\n",
    "    output = 0\n",
    "    # Add invidual input multiplied by the respective weigth\n",
    "    for input, weight in zip(inputs, neuron_weigths):\n",
    "        output += input * weight\n",
    "    # Add bais to current output.\n",
    "    output += neron_bais\n",
    "    # Add output to layer.\n",
    "    layout_outputs.append(output)\n",
    "\n",
    "layout_outputs"
   ]
  },
  {
   "cell_type": "code",
   "execution_count": null,
   "metadata": {},
   "outputs": [],
   "source": []
  }
 ],
 "metadata": {
  "kernelspec": {
   "display_name": ".venv",
   "language": "python",
   "name": "python3"
  },
  "language_info": {
   "codemirror_mode": {
    "name": "ipython",
    "version": 3
   },
   "file_extension": ".py",
   "mimetype": "text/x-python",
   "name": "python",
   "nbconvert_exporter": "python",
   "pygments_lexer": "ipython3",
   "version": "3.13.0"
  }
 },
 "nbformat": 4,
 "nbformat_minor": 2
}
